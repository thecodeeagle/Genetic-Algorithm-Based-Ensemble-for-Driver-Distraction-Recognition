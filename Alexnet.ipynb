{
  "nbformat": 4,
  "nbformat_minor": 0,
  "metadata": {
    "colab": {
      "name": "Alexnet.ipynb",
      "provenance": [],
      "collapsed_sections": [],
      "include_colab_link": true
    },
    "kernelspec": {
      "name": "python3",
      "display_name": "Python 3"
    },
    "accelerator": "GPU"
  },
  "cells": [
    {
      "cell_type": "markdown",
      "metadata": {
        "id": "view-in-github",
        "colab_type": "text"
      },
      "source": [
        "<a href=\"https://colab.research.google.com/github/thecodeeagle/Genetic-Algorithm-Based-Ensemble-for-Driver-Distraction-Recognition/blob/main/Alexnet.ipynb\" target=\"_parent\"><img src=\"https://colab.research.google.com/assets/colab-badge.svg\" alt=\"Open In Colab\"/></a>"
      ]
    },
    {
      "cell_type": "code",
      "metadata": {
        "id": "BrHWxlg-TJuF"
      },
      "source": [
        "# Import necessary packages\n",
        "import argparse\n",
        "\n",
        "# Import necessary components to build LeNet\n",
        "from keras.models import Sequential\n",
        "from keras.layers.core import Dense, Dropout, Activation, Flatten\n",
        "from keras.layers.convolutional import Conv2D, MaxPooling2D, ZeroPadding2D\n",
        "from keras.layers.normalization import BatchNormalization\n",
        "\n",
        "from keras import optimizers\n",
        "import tensorflow as tf"
      ],
      "execution_count": null,
      "outputs": []
    },
    {
      "cell_type": "code",
      "metadata": {
        "id": "aMZfQpXX0MHl"
      },
      "source": [
        "import numpy as np"
      ],
      "execution_count": null,
      "outputs": []
    },
    {
      "cell_type": "code",
      "metadata": {
        "id": "FVLLAonKPQC_"
      },
      "source": [
        "import numpy as np\n",
        "import pandas as pd\n",
        "import os"
      ],
      "execution_count": null,
      "outputs": []
    },
    {
      "cell_type": "code",
      "metadata": {
        "id": "ulfK4BF7YorC"
      },
      "source": [
        "from PIL import Image\n",
        "import cv2\n",
        "train_images = []\n",
        "train_labels = []\n",
        "with open(\"drive/My Drive/distracted.driver/train.csv\", 'r') as file:\n",
        "  \n",
        "  count =0\n",
        "  for line in file:\n",
        "    if count ==0: ## excluding first row\n",
        "      count+=1\n",
        "    if count>1:\n",
        "\n",
        "\n",
        "      temp = (line.split(\",\")[0])\n",
        "      \n",
        "      print(count)\n",
        "      img_path = \"drive/My Drive\" + (line.split(\",\")[0])\n",
        "      #name = temp.split(\"/\")\n",
        "      #filename = name[2] + name[3]\n",
        "        \n",
        "      img = Image.open(img_path)\n",
        "       \n",
        "      newsize = (224, 224) \n",
        "      img = img.resize(newsize)\n",
        "      img_arr = np.array(img)        \n",
        "      train_images.append(img_arr)\n",
        "     \n",
        "      train_labels.append(int((line.split(\",\")[1]).split('\\n')[0]))\n",
        "    count+=1"
      ],
      "execution_count": null,
      "outputs": []
    },
    {
      "cell_type": "code",
      "metadata": {
        "id": "M4XlSSfSk4Ih"
      },
      "source": [
        "def resize_image(img, size=(112,112)):\n",
        "\n",
        "    h, w = img.shape[:2]\n",
        "    c = img.shape[2] if len(img.shape)>2 else 1\n",
        "\n",
        "    if h == w: \n",
        "        return cv2.resize(img, size, cv2.INTER_AREA)\n",
        "\n",
        "    dif = h if h > w else w\n",
        "\n",
        "    if dif > (size[0]+size[1])//2:\n",
        "      interpolation = cv2.INTER_AREA \n",
        "    else:\n",
        "      interpolation = cv2.INTER_CUBIC\n",
        "\n",
        "    x_pos = (dif - w)//2\n",
        "    y_pos = (dif - h)//2\n",
        "\n",
        "    if len(img.shape) == 2:\n",
        "        mask = np.zeros((dif, dif), dtype=img.dtype)\n",
        "        mask[y_pos:y_pos+h, x_pos:x_pos+w] = img[:h, :w]\n",
        "    else:\n",
        "        mask = np.zeros((dif, dif, c), dtype=img.dtype)\n",
        "        mask[y_pos:y_pos+h, x_pos:x_pos+w, :] = img[:h, :w, :]\n",
        "\n",
        "    return cv2.resize(mask, size, interpolation)"
      ],
      "execution_count": null,
      "outputs": []
    },
    {
      "cell_type": "code",
      "metadata": {
        "id": "iotweMzhPhkJ"
      },
      "source": [
        "from PIL import Image\n",
        "import numpy as np\n",
        "import IPython.display as display\n",
        "%matplotlib\n",
        "import matplotlib.pyplot as plt\n",
        "from pylab import imread,subplot,imshow,show\n",
        "import cv2\n",
        "test_images = []\n",
        "test_labels = []\n",
        "with open(\"drive/My Drive/distracted.driver/test.csv\", 'r') as file:\n",
        "  \n",
        "  count =0\n",
        "  for line in file:\n",
        "    if count ==0: ## excluding first row\n",
        "      count+=1\n",
        "    if count>1:\n",
        "\n",
        "\n",
        "      temp = (line.split(\",\")[0])\n",
        "      \n",
        "      print(count)\n",
        "      img_path = \"drive/My Drive\" + (line.split(\",\")[0])\n",
        "         \n",
        "      img = cv2.imread(img_path)\n",
        "      img_arr = np.array(img)  \n",
        "      img_arr = resize_image(img_arr) \n",
        "      print(img_arr.shape)\n",
        "    \n",
        "      \n",
        "    \n",
        "    \n",
        "      test_images.append(img_arr)\n",
        "     \n",
        "    count+=1"
      ],
      "execution_count": null,
      "outputs": []
    },
    {
      "cell_type": "code",
      "metadata": {
        "id": "p-wjyEJkSiPq"
      },
      "source": [
        "from keras import layers\n",
        "from keras import models\n",
        "from keras.models import Sequential\n",
        "from tensorflow.keras import datasets,models,layers\n",
        "\n",
        "from keras.regularizers import l2\n",
        "# Initialize model\n",
        "alexnet = Sequential()\n",
        "l2_reg=0.\n",
        "\n",
        "# Layer 1\n",
        "alexnet.add(Conv2D(96, (11, 11), input_shape=(224,224,3),padding='same', kernel_regularizer=l2(l2_reg)))\n",
        "alexnet.add(BatchNormalization())\n",
        "alexnet.add(Activation('relu'))\n",
        "alexnet.add(MaxPooling2D(pool_size=(2, 2)))\n",
        "# Layer 2\n",
        "alexnet.add(Conv2D(256, (5, 5), padding='same'))\n",
        "alexnet.add(BatchNormalization())\n",
        "alexnet.add(Activation('relu'))\n",
        "alexnet.add(MaxPooling2D(pool_size=(2, 2)))\n",
        "# Layer 3\n",
        "alexnet.add(ZeroPadding2D((1, 1)))\n",
        "alexnet.add(Conv2D(512, (3, 3), padding='same'))\n",
        "alexnet.add(BatchNormalization())\n",
        "alexnet.add(Activation('relu'))\n",
        "alexnet.add(MaxPooling2D(pool_size=(2, 2)))\n",
        "\n",
        "# Layer 4\n",
        "alexnet.add(ZeroPadding2D((1, 1)))\n",
        "alexnet.add(Conv2D(1024, (3, 3), padding='same'))\n",
        "alexnet.add(BatchNormalization())\n",
        "alexnet.add(Activation('relu'))\n",
        "alexnet.add(MaxPooling2D(pool_size=(2, 2)))\n",
        "\n",
        "alexnet.add(ZeroPadding2D((1, 1)))\n",
        "alexnet.add(Conv2D(1024, (3, 3), padding='same'))\n",
        "alexnet.add(BatchNormalization())\n",
        "alexnet.add(Activation('relu'))\n",
        "alexnet.add(MaxPooling2D(pool_size=(2, 2)))\n",
        "\n",
        "\n",
        "# Layer 6\n",
        "alexnet.add(Flatten())\n",
        "alexnet.add(Dense(1024))\n",
        "alexnet.add(BatchNormalization())\n",
        "alexnet.add(Activation('relu'))\n",
        "alexnet.add(Dropout(0.5))\n",
        "# Layer 8\n",
        "alexnet.add(Dense(10))\n",
        "alexnet.add(BatchNormalization())\n",
        "alexnet.add(Activation('softmax'))\n",
        "alexnet.compile(loss='categorical_crossentropy', metrics=['acc'],optimizer=optimizers.RMSprop(lr=1e-4))\n",
        "\n",
        "\n",
        "        \n",
        "    \n",
        "\n"
      ],
      "execution_count": null,
      "outputs": []
    },
    {
      "cell_type": "code",
      "metadata": {
        "id": "9Hwd-n5RArdA"
      },
      "source": [
        "%matplotlib inline\n",
        "import matplotlib.pyplot as plt\n",
        "from IPython.display import clear_output\n",
        "\n",
        "import keras"
      ],
      "execution_count": null,
      "outputs": []
    },
    {
      "cell_type": "code",
      "metadata": {
        "id": "YAmHI1OtArdB"
      },
      "source": [
        "class TrainingPlot(keras.callbacks.Callback):\n",
        "    \n",
        "    # This function is called when the training begins\n",
        "    def on_train_begin(self, logs={}):\n",
        "        # Initialize the lists for holding the logs, losses and accuracies\n",
        "        self.losses = []\n",
        "        self.acc = []\n",
        "        self.logs = []\n",
        "    \n",
        "    # This function is called at the end of each epoch\n",
        "    def on_epoch_end(self, epoch, logs={}):\n",
        "        \n",
        "        # Append the logs, losses and accuracies to the lists\n",
        "        self.logs.append(logs)\n",
        "        self.losses.append(logs.get('loss'))\n",
        "        self.acc.append(logs.get('acc'))\n",
        "       \n",
        "        \n",
        "        # Before plotting ensure at least 2 epochs have passed\n",
        "        if len(self.losses) > 1:\n",
        "            \n",
        "            # Clear the previous plot\n",
        "            clear_output(wait=True)\n",
        "            N = np.arange(0, len(self.losses))\n",
        "            \n",
        "            # You can chose the style of your preference\n",
        "            # print(plt.style.available) to see the available options\n",
        "            plt.style.use(\"seaborn\")\n",
        "            \n",
        "            # Plot train loss, train acc, val loss and val acc against epochs passed\n",
        "            plt.figure()\n",
        "            plt.plot(N, self.losses, label = \"Training Loss\")\n",
        "            plt.plot(N, self.acc, label = \"Training Accuracy\")\n",
        "            plt.title(\"Training Loss and Accuracy \")\n",
        "            plt.xlabel(\"Epoch #\")\n",
        "            plt.ylabel(\"Loss/Accuracy\")\n",
        "            plt.legend()\n",
        "            plt.show()\n",
        "\n",
        "plot_losses = TrainingPlot()"
      ],
      "execution_count": null,
      "outputs": []
    },
    {
      "cell_type": "code",
      "metadata": {
        "id": "8bZYjsSQcbKG"
      },
      "source": [
        "import numpy as np\n",
        "loaded = np.load(\"drive/My Drive/newdriver.npz\")\n",
        "train_images = loaded[\"train_images\"]\n",
        "train_labels = loaded[\"train_labels\"]"
      ],
      "execution_count": null,
      "outputs": []
    },
    {
      "cell_type": "code",
      "metadata": {
        "id": "6SPOOBbhFwA5"
      },
      "source": [
        "train_labels = tf.keras.utils.to_categorical(train_labels, num_classes=10)"
      ],
      "execution_count": null,
      "outputs": []
    },
    {
      "cell_type": "code",
      "metadata": {
        "id": "R4DzUWM6nzNk",
        "colab": {
          "base_uri": "https://localhost:8080/",
          "height": 376
        },
        "outputId": "306e885b-0d22-4d44-a92c-bcb63f1fbf38"
      },
      "source": [
        "history = alexnet.fit(train_images, train_labels, epochs = 50, batch_size = 64, callbacks=[plot_losses])"
      ],
      "execution_count": null,
      "outputs": [
        {
          "output_type": "display_data",
          "data": {
            "image/png": "[encoded data removed]",
            "text/plain": [
              "<Figure size 576x396 with 1 Axes>"
            ]
          },
          "metadata": {
            "tags": []
          }
        }
      ]
    },
    {
      "cell_type": "code",
      "metadata": {
        "id": "xHgpBVPESMd5"
      },
      "source": [
        "def plot_confusion_matrix(cm, classes,\n",
        "                        normalize=False,\n",
        "                        title='Confusion matrix',\n",
        "                        cmap=plt.cm.Blues):\n",
        "    \"\"\"\n",
        "    This function prints and plots the confusion matrix.\n",
        "    Normalization can be applied by setting `normalize=True`.\n",
        "    \"\"\"\n",
        "    plt.imshow(cm, interpolation='nearest', cmap=cmap)\n",
        "    plt.title(title)\n",
        "    plt.colorbar()\n",
        "    tick_marks = np.arange(len(classes))\n",
        "    plt.xticks(tick_marks, classes, rotation=45)\n",
        "    plt.yticks(tick_marks, classes)\n",
        "\n",
        "    if normalize:\n",
        "        cm = cm.astype('float') / cm.sum(axis=1)[:, np.newaxis]\n",
        "        print(\"Normalized confusion matrix\")\n",
        "    else:\n",
        "        print('Confusion matrix, without normalization')\n",
        "\n",
        "    print(cm)\n",
        "\n",
        "    thresh = cm.max() / 2.\n",
        "    for i, j in itertools.product(range(cm.shape[0]), range(cm.shape[1])):\n",
        "        plt.text(j, i, cm[i, j],\n",
        "            horizontalalignment=\"center\",\n",
        "            color=\"white\" if cm[i, j] > thresh else \"black\")\n",
        "\n",
        "    plt.ylabel('True label')\n",
        "    plt.xlabel('Predicted label')"
      ],
      "execution_count": null,
      "outputs": []
    },
    {
      "cell_type": "code",
      "metadata": {
        "id": "MDmUxYXOOOtI"
      },
      "source": [
        "%matplotlib inline\n",
        "\n",
        "import itertools\n",
        "import matplotlib.pyplot as plt\n",
        "from sklearn.metrics import confusion_matrix\n",
        "cm_plot_labels = ['Safe Driving','Text Right','Phone Right', 'Text Left', 'Phone_Left','Adjust Radio', 'Drinking', 'Reaching Behind', 'Hair or Makeup', 'Talking to Passenger']\n",
        "cm= confusion_matrix(y_true = test_labels, y_pred =np.argmax(y_pred, axis =1))\n",
        "\n",
        "plot_confusion_matrix(cm=cm, classes=cm_plot_labels, title='Confusion Matrix', normalize = True)\n"
      ],
      "execution_count": null,
      "outputs": []
    },
    {
      "cell_type": "code",
      "metadata": {
        "id": "PABXl2chShHt",
        "colab": {
          "base_uri": "https://localhost:8080/",
          "height": 178
        },
        "outputId": "8e9a1252-e7e7-41cc-d362-4d27b3465408"
      },
      "source": [
        "(classification_report(test_labels,np.argmax(y_pred, axis = 1), target_names=cm_plot_labels))"
      ],
      "execution_count": null,
      "outputs": [
        {
          "output_type": "execute_result",
          "data": {
            "application/vnd.google.colaboratory.intrinsic+json": {
              "type": "string"
            },
            "text/plain": [
              "'                      precision    recall  f1-score   support\\n\\n        Safe Driving       0.93      0.94      0.93       922\\n          Text Right       0.94      0.97      0.95       326\\n         Phone Right       0.98      0.96      0.97       341\\n           Text Left       0.96      0.95      0.95       494\\n          Phone_Left       0.98      0.94      0.96       306\\n        Adjust Radio       0.95      0.96      0.96       305\\n            Drinking       0.96      0.97      0.97       403\\n     Reaching Behind       0.95      0.96      0.95       301\\n      Hair or Makeup       0.99      0.94      0.96       290\\nTalking to Passenger       0.95      0.97      0.96       643\\n\\n            accuracy                           0.95      4331\\n           macro avg       0.96      0.96      0.96      4331\\n        weighted avg       0.95      0.95      0.95      4331\\n'"
            ]
          },
          "metadata": {
            "tags": []
          },
          "execution_count": 71
        }
      ]
    },
    {
      "cell_type": "code",
      "metadata": {
        "id": "qoEU8VhQ2Fvm"
      },
      "source": [
        "test_images = loaded['test_images']\n",
        "test_labels = loaded['test_labels']"
      ],
      "execution_count": null,
      "outputs": []
    },
    {
      "cell_type": "code",
      "metadata": {
        "id": "X51fYnwj3j0G",
        "colab": {
          "base_uri": "https://localhost:8080/"
        },
        "outputId": "eab1fde9-0b4b-470a-9c23-d8e71143f703"
      },
      "source": [
        "results = alexnet.evaluate(test_images, test)"
      ],
      "execution_count": null,
      "outputs": [
        {
          "output_type": "stream",
          "text": [
            "144/144 [==============================] - 24s 170ms/step - loss: 0.3392 - accuracy: 0.9563\n"
          ],
          "name": "stdout"
        }
      ]
    },
    {
      "cell_type": "code",
      "metadata": {
        "colab": {
          "base_uri": "https://localhost:8080/"
        },
        "id": "SY4s-tyv08Qt",
        "outputId": "572975d3-f79b-4f76-b156-5b9c785bebcd"
      },
      "source": [
        "alexnet.save(\"drive/My Drive/new_alexnet\")"
      ],
      "execution_count": null,
      "outputs": [
        {
          "output_type": "stream",
          "text": [
            "INFO:tensorflow:Assets written to: drive/My Drive/new_alexnet/assets\n"
          ],
          "name": "stdout"
        }
      ]
    }
  ]
}