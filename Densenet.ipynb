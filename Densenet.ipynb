{
  "nbformat": 4,
  "nbformat_minor": 0,
  "metadata": {
    "colab": {
      "name": "Densenet.ipynb",
      "provenance": [],
      "include_colab_link": true
    },
    "kernelspec": {
      "name": "python3",
      "display_name": "Python 3"
    },
    "accelerator": "GPU"
  },
  "cells": [
    {
      "cell_type": "markdown",
      "metadata": {
        "id": "view-in-github",
        "colab_type": "text"
      },
      "source": [
        "<a href=\"https://colab.research.google.com/github/thecodeeagle/Genetic-Algorithm-Based-Ensemble-for-Driver-Distraction-Recognition/blob/main/Densenet.ipynb\" target=\"_parent\"><img src=\"https://colab.research.google.com/assets/colab-badge.svg\" alt=\"Open In Colab\"/></a>"
      ]
    },
    {
      "cell_type": "code",
      "metadata": {
        "id": "HGePlkDYR9x7"
      },
      "source": [
        "from google.colab import drive\n",
        "drive.mount('/content/drive')"
      ],
      "execution_count": null,
      "outputs": []
    },
    {
      "cell_type": "code",
      "metadata": {
        "id": "FScpq2oZkJg_"
      },
      "source": [
        "%cd drive/My Drive"
      ],
      "execution_count": null,
      "outputs": []
    },
    {
      "cell_type": "code",
      "metadata": {
        "id": "lo-mat0JkYvY"
      },
      "source": [
        "!git clone https://github.com/thecodeeagle/yoga-82.git"
      ],
      "execution_count": null,
      "outputs": []
    },
    {
      "cell_type": "code",
      "metadata": {
        "id": "cLcuonHDkcgR"
      },
      "source": [
        "%cd yoga-82/"
      ],
      "execution_count": null,
      "outputs": []
    },
    {
      "cell_type": "code",
      "metadata": {
        "id": "Y2bug2_rksop"
      },
      "source": [
        "%pycat models.py"
      ],
      "execution_count": null,
      "outputs": []
    },
    {
      "cell_type": "code",
      "metadata": {
        "id": "t2j92DPalwUm"
      },
      "source": [
        "pip install Keras-Applications"
      ],
      "execution_count": null,
      "outputs": []
    },
    {
      "cell_type": "code",
      "metadata": {
        "id": "xdPNHgHQkxxQ"
      },
      "source": [
        "import os\n",
        "os.environ[\"CUDA_DEVICE_ORDER\"]= \"PCI_BUS_ID\"\n",
        "os.environ[\"CUDA_VISIBLE_DEVICES\"]= \"0\"\n",
        "\n",
        "import keras\n",
        "from keras.layers import Dense,Dropout,Conv2D,Input,MaxPool2D,Flatten,Activation, GlobalAveragePooling2D, BatchNormalization, MaxPooling2D, Conv2D, Concatenate\n",
        "from keras.models import Model\n",
        "keras.backend.set_image_data_format('channels_last')\n",
        "\n",
        "\n",
        "\n",
        "from keras.applications.resnet import ResNet50, ResNet101\n",
        "#from keras_applications.resnet_v2 import ResNet50V2, ResNet101V2\n",
        "#from keras_applications.mobilenet import MobileNet\n",
        "#from keras_applications.mobilenet_v2 import MobileNetV2\n",
        "#from keras_applications.resnext import ResNeXt50, ResNeXt101\n",
        "from keras_applications.densenet import DenseNet121, DenseNet169, DenseNet201\n",
        "\n",
        "\n",
        "\n",
        "from keras_densenet_modified import DenseNet201_hir\n",
        "\n",
        "def dense_block(x, blocks, name):\n",
        "    \"\"\"A dense block.\n",
        "\n",
        "    # Arguments\n",
        "        x: input tensor.\n",
        "        blocks: integer, the number of building blocks.\n",
        "        name: string, block label.\n",
        "\n",
        "    # Returns\n",
        "        output tensor for the block.\n",
        "    \"\"\"\n",
        "    for i in range(blocks):\n",
        "        x = conv_block(x, 32, name=name + '_block' + str(i + 1))\n",
        "    return x\n",
        "\n",
        "\n",
        "def conv_block(x, growth_rate, name):\n",
        "    \"\"\"A building block for a dense block.\n",
        "\n",
        "    # Arguments\n",
        "        x: input tensor.\n",
        "        growth_rate: float, growth rate at dense layers.\n",
        "        name: string, block label.\n",
        "\n",
        "    # Returns\n",
        "        Output tensor for the block.\n",
        "    \"\"\"\n",
        "    bn_axis = 3 #if backend.image_data_format() == 'channels_last' else 1\n",
        "    x1 = BatchNormalization(axis=bn_axis,\n",
        "                                   epsilon=1.001e-5,\n",
        "                                   name=name + '_0_bn')(x)\n",
        "    x1 = Activation('relu', name=name + '_0_relu')(x1)\n",
        "    x1 = Conv2D(4 * growth_rate, 1,\n",
        "                       use_bias=False,\n",
        "                       name=name + '_1_conv')(x1)\n",
        "    x1 = BatchNormalization(axis=bn_axis, epsilon=1.001e-5,\n",
        "                                   name=name + '_1_bn')(x1)\n",
        "    x1 = Activation('relu', name=name + '_1_relu')(x1)\n",
        "    x1 = Conv2D(growth_rate, 3,\n",
        "                       padding='same',\n",
        "                       use_bias=False,\n",
        "                       name=name + '_2_conv')(x1)\n",
        "    x = Concatenate(axis=bn_axis, name=name + '_concat')([x, x1])\n",
        "    return x\n",
        "\n",
        "def model_one_class(\n",
        "        input_shape = (224,224,3),\n",
        "        class_6=6,\n",
        "        class_20=20,\n",
        "        class_82=82):\n",
        "    # for results of sota papers\n",
        "    inputs = Input(input_shape)\n",
        "    base_model= ResNet50(include_top=False, weights=None, input_tensor = inputs, backend = keras.backend , layers = keras.layers , models = keras.models , utils = keras.utils)\n",
        "    #base_model= ResNet101(include_top=False, weights=None, input_tensor = inputs, backend = keras.backend , layers = keras.layers , models = keras.models , utils = keras.utils)\n",
        "    #base_model= ResNet50V2(include_top=False, weights=None, input_tensor = inputs, backend = keras.backend , layers = keras.layers , models = keras.models , utils = keras.utils)\n",
        "    #base_model= ResNet101V2(include_top=False, weights=None, input_tensor = inputs, backend = keras.backend , layers = keras.layers , models = keras.models , utils = keras.utils)\n",
        "    #base_model= DenseNet121(include_top=False, weights=None, input_tensor = inputs, backend = keras.backend , layers = keras.layers , models = keras.models , utils = keras.utils)\n",
        "    #base_model= DenseNet169(include_top=False, weights=None, input_tensor = inputs, backend = keras.backend , layers = keras.layers , models = keras.models , utils = keras.utils)\n",
        "    #base_model= DenseNet201(include_top=False, weights=None, input_tensor = inputs, backend = keras.backend , layers = keras.layers , models = keras.models , utils = keras.utils)\n",
        "    #base_model= MobileNet(include_top=False, weights=None, input_tensor = inputs, backend = keras.backend , layers = keras.layers , models = keras.models , utils = keras.utils)\n",
        "    #base_model= MobileNetV2(include_top=False, weights=None, input_tensor = inputs, backend = keras.backend , layers = keras.layers , models = keras.models , utils = keras.utils)\n",
        "    #base_model= ResNeXt50( input_tensor = inputs, include_top = False, weights = None,backend = keras.backend , layers = keras.layers , models = keras.models , utils = keras.utils)\n",
        "    #base_model= DenseNet121(include_top=False, weights=None, input_tensor = inputs, backend = keras.backend , layers = keras.layers , models = keras.models , utils = keras.utils)\n",
        "    \n",
        "\n",
        "    x=  base_model.output\n",
        "    x = GlobalAveragePooling2D()(x)\n",
        "    x = Dense(class_82, activation='softmax')(x)\n",
        "\n",
        "    model = Model(inputs=inputs, outputs= [x])\n",
        "\n",
        "    for layer in base_model.layers:\n",
        "        layer.trainable = True\n",
        "    \n",
        "    return model\n",
        "\n",
        "\n",
        "def dense201_hirar(\n",
        "        input_shape = (224,224,3),\n",
        "        class_6=6,\n",
        "        class_20=20,\n",
        "        class_82=82):\n",
        "    \n",
        "    # for variant 1 in the paper\n",
        "\n",
        "    inputs = Input(input_shape)\n",
        "    base_model= DenseNet201_hir(include_top=False, weights='imagenet', input_tensor = inputs, backend = keras.backend , layers = keras.layers , models = keras.models , utils = keras.utils)\n",
        "   \n",
        "    [x1,x2,x] = base_model.output\n",
        "\n",
        "    x1 = BatchNormalization( epsilon=1.001e-5, name = 'bn_class6_last')(x1)\n",
        "    x1 = Activation('relu', name='relu_class6_last')(x1)                                                                                                                                                                                                                                                                    \n",
        "    x1 = GlobalAveragePooling2D(name='GAvgPool_class6_last')(x1)\n",
        "    x2 = BatchNormalization( epsilon=1.001e-5, name = 'bn_class20_last')(x2)\n",
        "    x2 = Activation('relu', name='relu_class20_last')(x2)\n",
        "    x2 = GlobalAveragePooling2D(name='GAvgPool_class20_last')(x2)\n",
        "    x = GlobalAveragePooling2D()(x)\n",
        "\n",
        "    x1 = Dense(class_6, activation= 'softmax')(x1)\n",
        "    x2 = Dense(class_20, activation= 'softmax')(x2)\n",
        "    x = Dense(class_82, activation='softmax')(x)\n",
        "\n",
        "    model = Model(inputs, [x1,x2,x])\n",
        "\n",
        "    for layer in base_model.layers:\n",
        "        layer.trainable = True\n",
        "    \n",
        "    return model\n",
        "\n",
        "def dense201_hirar_6same20(\n",
        "        input_shape = (224,224,3),\n",
        "        class_6=6,\n",
        "        class_20=20,\n",
        "        class_82=82):\n",
        "    \n",
        "    # for variant 2 in the paper\n",
        "    inputs = Input(input_shape)\n",
        "    base_model= DenseNet201_hir(include_top=False, weights=None, input_tensor = inputs, backend = keras.backend , layers = keras.layers , models = keras.models , utils = keras.utils)\n",
        "\n",
        "    [null,x2,x] = base_model.output\n",
        "\n",
        "    x1 = BatchNormalization(epsilon=1.001e-5, name = 'bn_class6_last')(x2)\n",
        "    x1 = Activation('relu', name='relu_class6_last')(x1)\n",
        "    x1 = GlobalAveragePooling2D(name='GAvgPool_class6_last')(x1)\n",
        "    x2 = BatchNormalization(epsilon=1.001e-5, name = 'bn_class20_last')(x2)\n",
        "    x2 = Activation('relu', name='relu_class20_last')(x2)\n",
        "    x2 = GlobalAveragePooling2D(name='GAvgPool_class20_last')(x2)\n",
        "    x = GlobalAveragePooling2D()(x)\n",
        "\n",
        "    x1 = Dense(class_6, activation= 'softmax')(x1)\n",
        "\n",
        "    x2 = Dense(class_20, activation= 'softmax')(x2)\n",
        "\n",
        "    x = Dense(class_82, activation='softmax')(x)\n",
        "\n",
        "    model = Model(inputs, [x1,x2,x])\n",
        "\n",
        "    for layer in base_model.layers:\n",
        "        layer.trainable = True\n",
        "    \n",
        "    return model\n",
        "def dense201_hirar_new(\n",
        "        input_shape = (224,224,3),\n",
        "        class_6=512,\n",
        "        class_20=128,\n",
        "        class_82=10):\n",
        "\n",
        "    # for variant 3 in the paper\n",
        "\n",
        "    inputs = Input(input_shape)\n",
        "    base_model= DenseNet201_hir(include_top=False, weights='imagenet', input_tensor = inputs, backend = keras.backend , layers = keras.layers , models = keras.models , utils = keras.utils)\n",
        "     \n",
        "    x1 = dense_block(base_model.output[-1], 32, name='denseblockClass6')\n",
        "    l = Flatten()(x1)\n",
        "    x = Dense(10, activation='softmax')(l)\n",
        "\n",
        "    model = Model(inputs, x)\n",
        "\n",
        "    for layer in base_model.layers:\n",
        "        layer.trainable = False\n",
        "    \n",
        "    return model"
      ],
      "execution_count": null,
      "outputs": []
    },
    {
      "cell_type": "code",
      "metadata": {
        "id": "fMdegJfrl16Z"
      },
      "source": [
        "p = dense201_hirar_new()"
      ],
      "execution_count": null,
      "outputs": []
    },
    {
      "cell_type": "code",
      "metadata": {
        "id": "Vjs9_W_Vl6ly"
      },
      "source": [
        "p.summary()"
      ],
      "execution_count": null,
      "outputs": []
    },
    {
      "cell_type": "code",
      "metadata": {
        "colab": {
          "base_uri": "https://localhost:8080/"
        },
        "id": "at0_KSooy7BO",
        "outputId": "de8ffc96-c0c1-4f72-bc22-74e2654d733e"
      },
      "source": [
        "%cd ../../../"
      ],
      "execution_count": null,
      "outputs": [
        {
          "output_type": "stream",
          "text": [
            "/content\n"
          ],
          "name": "stdout"
        }
      ]
    },
    {
      "cell_type": "code",
      "metadata": {
        "id": "jSox8FxUoh5Z"
      },
      "source": [
        "import numpy as np\n",
        "loaded = np.load('drive/My Drive/newdriver.npz')"
      ],
      "execution_count": null,
      "outputs": []
    },
    {
      "cell_type": "code",
      "metadata": {
        "id": "xKOC4KProo86"
      },
      "source": [
        "train_images = loaded['train_images']\n",
        "train_labels = loaded['train_labels']"
      ],
      "execution_count": null,
      "outputs": []
    },
    {
      "cell_type": "code",
      "metadata": {
        "id": "pCJav9YlpzXb"
      },
      "source": [
        "import tensorflow as tf\n",
        "import matplotlib.pyplot as plt\n",
        "import numpy as np\n",
        "import pandas as pd\n",
        "import sklearn\n",
        "import keras\n",
        "from tensorflow.keras import datasets,models,layers\n",
        "from sklearn.neighbors import KNeighborsClassifier\n",
        "from sklearn.metrics import classification_report, confusion_matrix, accuracy_score\n",
        "from sklearn.model_selection import cross_val_score\n",
        "from keras.models import Sequential\n",
        "from keras.layers import Dense, Dropout, Flatten\n",
        "from keras.layers import Conv2D, MaxPooling2D, BatchNormalization\n",
        "from keras.preprocessing.image import ImageDataGenerator\n",
        "from keras import optimizers\n",
        "import matplotlib.pyplot as plt"
      ],
      "execution_count": null,
      "outputs": []
    },
    {
      "cell_type": "code",
      "metadata": {
        "id": "9Hwd-n5RArdA"
      },
      "source": [
        "%matplotlib inline\n",
        "import matplotlib.pyplot as plt\n",
        "from IPython.display import clear_output\n",
        "\n",
        "import keras"
      ],
      "execution_count": null,
      "outputs": []
    },
    {
      "cell_type": "code",
      "metadata": {
        "id": "YAmHI1OtArdB"
      },
      "source": [
        "class TrainingPlot(keras.callbacks.Callback):\n",
        "    \n",
        "    # This function is called when the training begins\n",
        "    def on_train_begin(self, logs={}):\n",
        "        # Initialize the lists for holding the logs, losses and accuracies\n",
        "        self.losses = []\n",
        "        self.acc = []\n",
        "        self.logs = []\n",
        "    \n",
        "    # This function is called at the end of each epoch\n",
        "    def on_epoch_end(self, epoch, logs={}):\n",
        "        \n",
        "        # Append the logs, losses and accuracies to the lists\n",
        "        self.logs.append(logs)\n",
        "        self.losses.append(logs.get('loss'))\n",
        "        self.acc.append(logs.get('acc'))\n",
        "       \n",
        "        \n",
        "        # Before plotting ensure at least 2 epochs have passed\n",
        "        if len(self.losses) > 1:\n",
        "            \n",
        "            # Clear the previous plot\n",
        "            clear_output(wait=True)\n",
        "            N = np.arange(0, len(self.losses))\n",
        "            \n",
        "            # You can chose the style of your preference\n",
        "            # print(plt.style.available) to see the available options\n",
        "            plt.style.use(\"seaborn\")\n",
        "            \n",
        "            # Plot train loss, train acc, val loss and val acc against epochs passed\n",
        "            plt.figure()\n",
        "            plt.plot(N, self.losses, label = \"Training Loss\")\n",
        "            plt.plot(N, self.acc, label = \"Training Accuracy\")\n",
        "            plt.title(\"Training Loss and Accuracy \")\n",
        "            plt.xlabel(\"Epoch #\")\n",
        "            plt.ylabel(\"Loss/Accuracy\")\n",
        "            plt.legend()\n",
        "            plt.show()\n",
        "\n",
        "plot_losses = TrainingPlot()"
      ],
      "execution_count": null,
      "outputs": []
    },
    {
      "cell_type": "code",
      "metadata": {
        "id": "O4Br4IT-ouxI"
      },
      "source": [
        "p.compile(loss=\"categorical_crossentropy\", optimizer=optimizers.RMSprop(lr=0.0001),metrics=[\"acc\"])"
      ],
      "execution_count": null,
      "outputs": []
    },
    {
      "cell_type": "code",
      "metadata": {
        "id": "j4U89ZSqp16q"
      },
      "source": [
        "train_labels = tf.keras.utils.to_categorical(train_labels, num_classes=10)"
      ],
      "execution_count": null,
      "outputs": []
    },
    {
      "cell_type": "code",
      "metadata": {
        "colab": {
          "base_uri": "https://localhost:8080/",
          "height": 376
        },
        "id": "2pxI6Crcp5a9",
        "outputId": "f2ef4aaa-76db-414b-d127-7b02422c7325"
      },
      "source": [
        "history = p.fit(train_images, train_labels, epochs = 50, batch_size = 64, callbacks=[plot_losses])"
      ],
      "execution_count": null,
      "outputs": [
        {
          "output_type": "display_data",
          "data": {
            "image/png": "[encoded data removed]",
            "text/plain": [
              "<Figure size 576x396 with 1 Axes>"
            ]
          },
          "metadata": {
            "tags": []
          }
        }
      ]
    },
    {
      "cell_type": "code",
      "metadata": {
        "colab": {
          "base_uri": "https://localhost:8080/",
          "height": 735
        },
        "id": "1PiNENlvrF9S",
        "outputId": "7024cef6-e06d-47b8-f15d-a4e4916882be"
      },
      "source": [
        "plt.plot(history.history['acc'])\r\n",
        "plt.title('Model Accuracy')\r\n",
        "plt.ylabel('Accuracy')\r\n",
        "plt.xlabel('Epochs #')\r\n",
        "plt.legend(['train', 'test'], loc='upper left')\r\n",
        "plt.show()\r\n",
        "# summarize history for loss\r\n",
        "plt.plot(history.history['loss'])\r\n",
        "\r\n",
        "plt.title('Model Loss')\r\n",
        "plt.ylabel('Loss')\r\n",
        "plt.xlabel('Epochs #')\r\n",
        "plt.legend(['train', 'test'], loc='upper left')\r\n",
        "plt.show()"
      ],
      "execution_count": null,
      "outputs": [
        {
          "output_type": "display_data",
          "data": {
            "image/png": "[encoded data removed]",
            "text/plain": [
              "<Figure size 576x396 with 1 Axes>"
            ]
          },
          "metadata": {
            "tags": []
          }
        },
        {
          "output_type": "display_data",
          "data": {
            "image/png": "[encoded data removed]",
            "text/plain": [
              "<Figure size 576x396 with 1 Axes>"
            ]
          },
          "metadata": {
            "tags": []
          }
        }
      ]
    },
    {
      "cell_type": "code",
      "metadata": {
        "id": "xXwQov66bL11"
      },
      "source": [
        "tf.config.run_functions_eagerly(True)"
      ],
      "execution_count": null,
      "outputs": []
    },
    {
      "cell_type": "code",
      "metadata": {
        "id": "QdGdjN2hKqmc"
      },
      "source": [
        "test_images = loaded['test_images']\n",
        "test_labels = loaded['test_labels']"
      ],
      "execution_count": null,
      "outputs": []
    },
    {
      "cell_type": "code",
      "metadata": {
        "id": "FAevcPJqKvYL"
      },
      "source": [
        "test_labels = np.load('content/drive/My Drive/test_labels.npy')"
      ],
      "execution_count": null,
      "outputs": []
    },
    {
      "cell_type": "code",
      "metadata": {
        "id": "_W8C7r_vK4Yi"
      },
      "source": [
        "test_labels = tf.keras.utils.to_categorical(test_labels, num_classes=10)"
      ],
      "execution_count": null,
      "outputs": []
    },
    {
      "cell_type": "code",
      "metadata": {
        "colab": {
          "base_uri": "https://localhost:8080/"
        },
        "id": "bslM6x3mK_Ja",
        "outputId": "55b74221-48fc-40d8-de01-4fc3181fb6a8"
      },
      "source": [
        "p.evaluate(test_images,test_labels)"
      ],
      "execution_count": null,
      "outputs": [
        {
          "output_type": "stream",
          "text": [
            "144/144 [==============================] - 33s 191ms/step - loss: 2.8615 - accuracy: 0.9363\n"
          ],
          "name": "stdout"
        },
        {
          "output_type": "execute_result",
          "data": {
            "text/plain": [
              "[2.861501455307007, 0.9362766146659851]"
            ]
          },
          "metadata": {
            "tags": []
          },
          "execution_count": 17
        }
      ]
    },
    {
      "cell_type": "code",
      "metadata": {
        "colab": {
          "base_uri": "https://localhost:8080/"
        },
        "id": "xi37HvgyEtKn",
        "outputId": "e020e431-5222-436e-a39d-e39fc58edb50"
      },
      "source": [
        "p.save(\"drive/My Drive/new_densenet3\")"
      ],
      "execution_count": null,
      "outputs": [
        {
          "output_type": "stream",
          "text": [
            "INFO:tensorflow:Assets written to: drive/My Drive/new_densenet3/assets\n"
          ],
          "name": "stdout"
        }
      ]
    }
  ]
}