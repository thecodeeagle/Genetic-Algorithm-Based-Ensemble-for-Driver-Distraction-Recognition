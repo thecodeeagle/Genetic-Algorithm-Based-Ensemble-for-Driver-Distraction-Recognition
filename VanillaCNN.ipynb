{
  "nbformat": 4,
  "nbformat_minor": 0,
  "metadata": {
    "accelerator": "GPU",
    "colab": {
      "name": "VanillaCNN.ipynb",
      "provenance": [],
      "include_colab_link": true
    },
    "kernelspec": {
      "display_name": "Python 3",
      "language": "python",
      "name": "python3"
    },
    "language_info": {
      "codemirror_mode": {
        "name": "ipython",
        "version": 3
      },
      "file_extension": ".py",
      "mimetype": "text/x-python",
      "name": "python",
      "nbconvert_exporter": "python",
      "pygments_lexer": "ipython3",
      "version": "3.6.8"
    }
  },
  "cells": [
    {
      "cell_type": "markdown",
      "metadata": {
        "id": "view-in-github",
        "colab_type": "text"
      },
      "source": [
        "<a href=\"https://colab.research.google.com/github/thecodeeagle/Genetic-Algorithm-Based-Ensemble-for-Driver-Distraction-Recognition/blob/main/VanillaCNN.ipynb\" target=\"_parent\"><img src=\"https://colab.research.google.com/assets/colab-badge.svg\" alt=\"Open In Colab\"/></a>"
      ]
    },
    {
      "cell_type": "code",
      "metadata": {
        "id": "BKVEETIap9TW"
      },
      "source": [
        "import tensorflow as tf\n",
        "from tensorflow import keras\n",
        "from tensorflow.keras import layers\n",
        "from keras.models import Sequential\n",
        "from keras.layers import Dense, Flatten, Dropout, Activation\n",
        "from keras.layers import Conv2D, MaxPooling2D"
      ],
      "execution_count": null,
      "outputs": []
    },
    {
      "cell_type": "code",
      "metadata": {
        "id": "0yQtS9XFArc-"
      },
      "source": [
        "from tensorflow.python.client import device_lib\n",
        "print(device_lib.list_local_devices())"
      ],
      "execution_count": null,
      "outputs": []
    },
    {
      "cell_type": "code",
      "metadata": {
        "id": "lXJB7pOuq4wS"
      },
      "source": [
        "from keras import models\n",
        "model = tf.keras.Sequential()\n",
        "model.add(keras.layers.Conv2D(60, (3,3), activation = \"relu\", padding = 'same', input_shape = (224,224,3)))\n",
        "#model.add(layers.Dropout(0.3))\n",
        "model.add(layers.MaxPooling2D(pool_size=(2, 2)))\n",
        "\n",
        "model.add(layers.Conv2D(90, (3,3), activation = \"relu\", padding = 'same'))\n",
        "#model.add(layers.Dropout(0.3))\n",
        "model.add(layers.MaxPooling2D(pool_size=(2, 2)))\n",
        "model.add(layers.Conv2D(200, (3,3), activation = \"relu\", padding = 'same'))\n",
        "#model.add(layers.Dropout(0.5))\n",
        "model.add(layers.MaxPooling2D(pool_size=(2, 2)))\n",
        "model.add(layers.Flatten())\n",
        "\n",
        "model.add(layers.Dense(512, activation= \"relu\"))\n",
        "model.add(layers.Dense(128, activation= \"relu\"))\n",
        "model.add(layers.BatchNormalization())\n",
        "model.add(layers.Dense(10, activation= \"softmax\"))\n",
        "\n"
      ],
      "execution_count": null,
      "outputs": []
    },
    {
      "cell_type": "code",
      "metadata": {
        "colab": {
          "base_uri": "https://localhost:8080/"
        },
        "id": "A-Mm2Yzzxhxv",
        "outputId": "e1ebc00e-a100-425c-f6ff-56afb23fe706"
      },
      "source": [
        "from google.colab import drive\n",
        "drive.mount('/content/drive')"
      ],
      "execution_count": null,
      "outputs": [
        {
          "output_type": "stream",
          "text": [
            "Mounted at /content/drive\n"
          ],
          "name": "stdout"
        }
      ]
    },
    {
      "cell_type": "code",
      "metadata": {
        "id": "fnwRyEuS4JlN",
        "colab": {
          "base_uri": "https://localhost:8080/"
        },
        "outputId": "b454ca63-051d-477f-e11a-4cc6e3caafaa"
      },
      "source": [
        "model.summary()"
      ],
      "execution_count": null,
      "outputs": [
        {
          "output_type": "stream",
          "text": [
            "Model: \"sequential\"\n",
            "_________________________________________________________________\n",
            "Layer (type)                 Output Shape              Param #   \n",
            "=================================================================\n",
            "conv2d (Conv2D)              (None, 224, 224, 60)      1680      \n",
            "_________________________________________________________________\n",
            "max_pooling2d (MaxPooling2D) (None, 112, 112, 60)      0         \n",
            "_________________________________________________________________\n",
            "conv2d_1 (Conv2D)            (None, 112, 112, 90)      48690     \n",
            "_________________________________________________________________\n",
            "max_pooling2d_1 (MaxPooling2 (None, 56, 56, 90)        0         \n",
            "_________________________________________________________________\n",
            "conv2d_2 (Conv2D)            (None, 56, 56, 200)       162200    \n",
            "_________________________________________________________________\n",
            "max_pooling2d_2 (MaxPooling2 (None, 28, 28, 200)       0         \n",
            "_________________________________________________________________\n",
            "flatten (Flatten)            (None, 156800)            0         \n",
            "_________________________________________________________________\n",
            "dense (Dense)                (None, 512)               80282112  \n",
            "_________________________________________________________________\n",
            "dense_1 (Dense)              (None, 128)               65664     \n",
            "_________________________________________________________________\n",
            "batch_normalization (BatchNo (None, 128)               512       \n",
            "_________________________________________________________________\n",
            "dense_2 (Dense)              (None, 10)                1290      \n",
            "=================================================================\n",
            "Total params: 80,562,148\n",
            "Trainable params: 80,561,892\n",
            "Non-trainable params: 256\n",
            "_________________________________________________________________\n"
          ],
          "name": "stdout"
        }
      ]
    },
    {
      "cell_type": "code",
      "metadata": {
        "id": "9Hwd-n5RArdA"
      },
      "source": [
        "%matplotlib inline\n",
        "import matplotlib.pyplot as plt\n",
        "from IPython.display import clear_output\n",
        "\n",
        "import keras"
      ],
      "execution_count": null,
      "outputs": []
    },
    {
      "cell_type": "code",
      "metadata": {
        "id": "YAmHI1OtArdB"
      },
      "source": [
        "class TrainingPlot(keras.callbacks.Callback):\n",
        "    \n",
        "    # This function is called when the training begins\n",
        "    def on_train_begin(self, logs={}):\n",
        "        # Initialize the lists for holding the logs, losses and accuracies\n",
        "        self.losses = []\n",
        "        self.acc = []\n",
        "        self.logs = []\n",
        "    \n",
        "    # This function is called at the end of each epoch\n",
        "    def on_epoch_end(self, epoch, logs={}):\n",
        "        \n",
        "        # Append the logs, losses and accuracies to the lists\n",
        "        self.logs.append(logs)\n",
        "        self.losses.append(logs.get('loss'))\n",
        "        self.acc.append(logs.get('acc'))\n",
        "       \n",
        "        \n",
        "        # Before plotting ensure at least 2 epochs have passed\n",
        "        if len(self.losses) > 1:\n",
        "            \n",
        "            # Clear the previous plot\n",
        "            clear_output(wait=True)\n",
        "            N = np.arange(0, len(self.losses))\n",
        "            \n",
        "            # You can chose the style of your preference\n",
        "            # print(plt.style.available) to see the available options\n",
        "            plt.style.use(\"seaborn\")\n",
        "            \n",
        "            # Plot train loss, train acc, val loss and val acc against epochs passed\n",
        "            plt.figure()\n",
        "            plt.plot(N, self.losses, label = \"train_loss\")\n",
        "            plt.plot(N, self.acc, label = \"train_acc\")\n",
        "            plt.title(\"Training Loss and Accuracy [Epoch {}]\".format(epoch))\n",
        "            plt.xlabel(\"Epoch #\")\n",
        "            plt.ylabel(\"Loss/Accuracy\")\n",
        "            plt.legend()\n",
        "            plt.show()\n",
        "\n",
        "plot_losses = TrainingPlot()"
      ],
      "execution_count": null,
      "outputs": []
    },
    {
      "cell_type": "code",
      "metadata": {
        "id": "ACmhEHSDtSfq"
      },
      "source": [
        "import numpy as np\n",
        "loaded = np.load('drive/My Drive/newdriver.npz')\n",
        "train_images = loaded['train_images']\n",
        "train_labels = loaded['train_labels']"
      ],
      "execution_count": null,
      "outputs": []
    },
    {
      "cell_type": "code",
      "metadata": {
        "id": "9r9HH7yuth8r"
      },
      "source": [
        "train_labels = tf.keras.utils.to_categorical(train_labels, num_classes=10)"
      ],
      "execution_count": null,
      "outputs": []
    },
    {
      "cell_type": "code",
      "metadata": {
        "id": "F2y4CbBdtuhD"
      },
      "source": [
        "model.compile(optimizer= keras.optimizers.RMSprop(lr=0.0001), loss = 'categorical_crossentropy', metrics = ['acc'])"
      ],
      "execution_count": null,
      "outputs": []
    },
    {
      "cell_type": "code",
      "metadata": {
        "colab": {
          "base_uri": "https://localhost:8080/",
          "height": 376
        },
        "id": "AE32QTu2uQ3C",
        "outputId": "46519082-0d1f-4c38-b28c-3dcedd7f2e9b"
      },
      "source": [
        "history = model.fit(train_images, train_labels, epochs = 15, batch_size=64, callbacks=[plot_losses])"
      ],
      "execution_count": null,
      "outputs": [
        {
          "output_type": "display_data",
          "data": {
            "image/png": "[encoded data removed]",
            "text/plain": [
              "<Figure size 576x396 with 1 Axes>"
            ]
          },
          "metadata": {
            "tags": []
          }
        }
      ]
    },
    {
      "cell_type": "code",
      "metadata": {
        "id": "e81c5uNfwyy1"
      },
      "source": [
        "test_images = loaded['test_images']\n",
        "test_labels = loaded['test_labels']"
      ],
      "execution_count": null,
      "outputs": []
    },
    {
      "cell_type": "code",
      "metadata": {
        "id": "vZuVGUucw7jW"
      },
      "source": [
        "test_labels = tf.keras.utils.to_categorical(test_labels, num_classes=10)"
      ],
      "execution_count": null,
      "outputs": []
    },
    {
      "cell_type": "code",
      "metadata": {
        "colab": {
          "base_uri": "https://localhost:8080/"
        },
        "id": "N7ka3Wys0oc1",
        "outputId": "03abaffa-bec0-488f-909c-2e1a2e196a88"
      },
      "source": [
        "model.evaluate(test_images, test_labels)"
      ],
      "execution_count": null,
      "outputs": [
        {
          "output_type": "stream",
          "text": [
            "144/144 [==============================] - 3s 23ms/step - loss: 0.1896 - acc: 0.9535\n"
          ],
          "name": "stdout"
        },
        {
          "output_type": "execute_result",
          "data": {
            "text/plain": [
              "[0.1895996332168579, 0.9534580111503601]"
            ]
          },
          "metadata": {
            "tags": []
          },
          "execution_count": 26
        }
      ]
    }
  ]
}